{
 "cells":[
  {
   "cell_type":"code",
   "source":[
    "#Завдання 1. Обчислити площу трикутника, коли відома сторона та проведена висота до неї\n",
    "\n",
    "a = int(input())\n",
    "h = int(input())\n",
    "\n",
    "S = (a * h) \/ 2\n",
    "print(\"Площа = \", S)"
   ],
   "execution_count":3,
   "outputs":[
    {
     "name":"stdout",
     "text":[
      " 3\n",
      " 5\n",
      "Площа =  7.5\n"
     ],
     "output_type":"stream"
    }
   ],
   "metadata":{
    "datalore":{
     "node_id":"MT7YgvUl1Nf0E5irAeI5k8",
     "type":"CODE",
     "hide_input_from_viewers":false,
     "hide_output_from_viewers":false
    }
   }
  },
  {
   "cell_type":"code",
   "source":[
    "#Завдання 2. Дано трицифрове число. Виведіть окремо кожну цифру числа та суми цифр число\n",
    "\n",
    "#Реалізуйте завдання двома способами (використовуючи стрічки та оператори `%`, `\/\/`)\n",
    "\n",
    "N = int(input())"
   ],
   "execution_count":6,
   "outputs":[
    {
     "name":"stdout",
     "text":[
      " 135\n"
     ],
     "output_type":"stream"
    }
   ],
   "metadata":{
    "datalore":{
     "node_id":"iwE6FmKmBgAB1Mb9ODv8Nd",
     "type":"CODE",
     "hide_input_from_viewers":false,
     "hide_output_from_viewers":false
    }
   }
  },
  {
   "cell_type":"code",
   "source":[
    "n1 = N % 10\n",
    "n2 = N \/\/ 10 % 10\n",
    "n3 = N \/\/ 100\n",
    "print(n3, n2, n1)\n",
    "Sn = (n3 + n2 + n1)\n",
    "print('suma = ', Sn)"
   ],
   "execution_count":7,
   "outputs":[
    {
     "name":"stdout",
     "text":[
      "1 3 5\n",
      "suma =  9\n"
     ],
     "output_type":"stream"
    }
   ],
   "metadata":{
    "datalore":{
     "node_id":"502CuZ7o1PUJ3pmjzZhfSz",
     "type":"CODE",
     "hide_input_from_viewers":false,
     "hide_output_from_viewers":false
    }
   }
  },
  {
   "cell_type":"code",
   "source":[
    "N1 = input()\n",
    "my_list = list(N1)\n",
    "a = int(my_list[0])\n",
    "b = int(my_list[1])\n",
    "c = int(my_list[-1])\n",
    "print(a, b, c)\n",
    "print ('suma = ', a + b + c)"
   ],
   "execution_count":40,
   "outputs":[
    {
     "name":"stdout",
     "text":[
      " 135\n",
      "1 3 5\n",
      "suma =  9\n"
     ],
     "output_type":"stream"
    }
   ],
   "metadata":{
    "datalore":{
     "node_id":"4TvShSAOzQYS9gX2RsRKUS",
     "type":"CODE",
     "hide_input_from_viewers":false,
     "hide_output_from_viewers":false
    }
   }
  },
  {
   "cell_type":"code",
   "source":[
    "# Завдання 3.\n",
    "# Дано речення (стрічка). \n",
    "# Розбийте речення по словах і помістіть їх у список. \n",
    "# Виведіть кількість слів у речені.\n",
    "# Утворіть нове речення, що складається з першого та останнього слова із початкового речення.\n",
    "\n",
    "# sentence = 'My favourite tutor in academy is Ihor'\n",
    "\n",
    "s = \"My favourite tutor in academy is Ihor\"\n",
    "lst = s.split()\n",
    "print(lst)\n",
    "\n",
    "result = len(s.split())\n",
    "print(\"There are\" + ' ' + str(result) + ' ' + \"words.\")\n",
    "\n",
    "import re\n",
    "first_word = re.findall(r'\\w+', s)[0]\n",
    "print(first_word)\n",
    "\n",
    "import re\n",
    "last_word = re.findall(r'\\w+', s)[-1]\n",
    "print(last_word)\n",
    "\n",
    "first_word + last_word\n"
   ],
   "execution_count":58,
   "outputs":[
    {
     "name":"stdout",
     "text":[
      "['My', 'favourite', 'tutor', 'in', 'academy', 'is', 'Ihor']\n",
      "There are 7 words.\n",
      "My\n",
      "Ihor\n"
     ],
     "output_type":"stream"
    },
    {
     "data":{
      "text\/plain":[
       "'MyIhor'"
      ]
     },
     "metadata":{
      
     },
     "output_type":"display_data"
    }
   ],
   "metadata":{
    "datalore":{
     "node_id":"Mjzc4Wadz4bYC6g63S5zBf",
     "type":"CODE",
     "hide_input_from_viewers":false,
     "hide_output_from_viewers":false
    }
   }
  },
  {
   "cell_type":"code",
   "source":[
    "#Завдання 4\n",
    "#Перевірте, чи справджується формула: $$ sin^2x + cos^2x = 1$$\n",
    "#Напишіть код, що реалізує цю формулу. Нагадую, що тригонометричні функції приймають аргументи в радіанній мірі\n",
    "\n",
    "import math\n",
    "print(\"sin^2x + cos^2x = 1:\")\n",
    "print(\"Введіть аргумент\")\n",
    "\n",
    "X = int(input())\n",
    "X = math.radians(180.0\/math.pi)\n",
    "\n",
    "X = (math.sin(X)**2) + (math.cos(X)**2)\n",
    "print(\"Результат за введеним аргументом допівнює:\", X, \"Чи вірна формула?: \", X == 1)"
   ],
   "execution_count":10,
   "outputs":[
    {
     "name":"stdout",
     "text":[
      "sin^2x + cos^2x = 1:\n",
      "Введіть аргумент\n",
      " 15\n",
      "Результат за введеним аргументом допівнює: 1.0 Чи вірна формула?:  True\n"
     ],
     "output_type":"stream"
    }
   ],
   "metadata":{
    "datalore":{
     "node_id":"u1O2js0hn3nC3rN5h4x8oy",
     "type":"CODE",
     "hide_input_from_viewers":false,
     "hide_output_from_viewers":false
    }
   }
  },
  {
   "cell_type":"code",
   "source":[
    "#Завдання 5\n",
    "#Напишіть програму для обчислення коренів квадратного рівняння.\n",
    "#Нагадую, що `n`-го степеня має `n` коренів. (Корені можуть бути комплексні)\n",
    "# ax2 + bx + c = 0\n",
    "# D = b2 - 4ac\n",
    "#D>0,x1,x2\n",
    "#D=0,x1=x2\n",
    "#D<0, корней нет\n",
    "\n",
    "import cmath\n",
    "print(\"Введіть коефіцієнти\")\n",
    "print(\"ax^2 + bx + c = 0:\")\n",
    "\n",
    "a = int(input('a = '))\n",
    "b = int(input('b = '))\n",
    "c = int(input('c = '))\n",
    "\n",
    "D = b**2 - 4* a * c\n",
    "print(\"Дискримінант = \", D)\n",
    "\n",
    "if D > 0:\n",
    "    x1 = (-b + cmath.sqrt(D)) \/ (2 * a)\n",
    "    x2 = (-b - cmath.sqrt(D)) \/ (2 * a)\n",
    "    print('x1 = ', x1, 'x2 = ', x2)\n",
    "elif D == 0:\n",
    "    x = - b \/ (2 * a)\n",
    "    print('x = ', x)\n",
    "else:\n",
    "    print(\"Корені відсутні\")"
   ],
   "execution_count":72,
   "outputs":[
    {
     "name":"stdout",
     "text":[
      "Введіть коефіцієнти\n",
      "ax^2 + bx + c = 0:\n",
      "a =  2\n",
      "b =  4\n",
      "c =  7\n",
      "Дискримінант =  -40\n",
      "Корені відсутні\n"
     ],
     "output_type":"stream"
    }
   ],
   "metadata":{
    "datalore":{
     "node_id":"liTU5K127ucEFO4XI6Ouwp",
     "type":"CODE",
     "hide_input_from_viewers":false,
     "hide_output_from_viewers":false
    }
   }
  },
  {
   "cell_type":"code",
   "source":[
    "#Завдання 5\n",
    "#Напишіть програму для обчислення коренів квадратного рівняння.\n",
    "#Нагадую, що `n`-го степеня має `n` коренів. (Корені можуть бути комплексні)\n",
    "# ax2 + bx + c = 0\n",
    "# D = b2 - 4ac\n",
    "#D>0,x1,x2\n",
    "#D=0,x1=x2\n",
    "#D<0, корней нет\n",
    "\n",
    "import cmath\n",
    "print(\"Введіть коефіцієнти\")\n",
    "print(\"ax^2 + bx + c = 0:\")\n",
    "\n",
    "a = int(input('a = '))\n",
    "b = int(input('b = '))\n",
    "c = int(input('c = '))\n",
    "\n",
    "D = b**2 - 4* a * c\n",
    "print(\"Дискримінант = \", D)\n",
    "\n",
    "if D > 0:\n",
    "    x1 = (-b + cmath.sqrt(D)) \/ (2 * a)\n",
    "    x2 = (-b - cmath.sqrt(D)) \/ (2 * a)\n",
    "    print('x1 = ', x1, 'x2 = ', x2)\n",
    "elif D == 0:\n",
    "    x = - b \/ (2 * a)\n",
    "    print('x = ', x)\n",
    "else:\n",
    "    print(\"Корені відсутні\")"
   ],
   "execution_count":74,
   "outputs":[
    {
     "name":"stdout",
     "text":[
      "Введіть коефіцієнти\n",
      "ax^2 + bx + c = 0:\n",
      "a =  1\n",
      "b =  6\n",
      "c =  9\n",
      "Дискримінант =  0\n",
      "x =  -3.0\n"
     ],
     "output_type":"stream"
    }
   ],
   "metadata":{
    "datalore":{
     "node_id":"ncut2aSBpWSTSwx2HyfvFe",
     "type":"CODE",
     "hide_input_from_viewers":false,
     "hide_output_from_viewers":false
    }
   }
  },
  {
   "cell_type":"code",
   "source":[
    "#Завдання 6\n",
    "#Напишіть програму, що виводить речення: <i>\"Діаметр планети `Planet` дорівнює` Diament`\"<\/i>, \n",
    "# де `Planet` та `Diament` вводить користувач\n",
    "\n",
    "a = input()\n",
    "b = int(input())\n",
    "\n",
    "print(\"Діаметр планети\" + ' ' + str(a) + ' ' + \"дорівнює\" + ' ' + str(b) + ' ' + \"км\")"
   ],
   "execution_count":64,
   "outputs":[
    {
     "name":"stdout",
     "text":[
      " Марс\n",
      " 7000\n",
      "Діаметр планети Марс дорівнює 7000 км\n"
     ],
     "output_type":"stream"
    }
   ],
   "metadata":{
    "datalore":{
     "node_id":"A3UvIEvHruhtigqAyzymOi",
     "type":"CODE",
     "hide_input_from_viewers":false,
     "hide_output_from_viewers":false
    }
   }
  }
 ],
 "metadata":{
  "kernelspec":{
   "display_name":"Python",
   "language":"python",
   "name":"python"
  },
  "datalore":{
   "version":1,
   "computation_mode":"JUPYTER",
   "package_manager":"pip",
   "base_environment":"default",
   "packages":[
    
   ]
  }
 },
 "nbformat":4,
 "nbformat_minor":4
}