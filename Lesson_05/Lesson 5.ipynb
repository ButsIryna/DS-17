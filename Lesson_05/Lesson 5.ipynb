{
 "cells":[
  {
   "cell_type":"code",
   "source":[
    "A = 10\n",
    "B = 18\n",
    "print(A%2==0)"
   ],
   "execution_count":5,
   "outputs":[
    {
     "name":"stdout",
     "text":[
      "True\n"
     ],
     "output_type":"stream"
    }
   ],
   "metadata":{
    "datalore":{
     "node_id":"tgQNpjvPtE52iw7gGvGjid",
     "type":"CODE",
     "hide_input_from_viewers":false,
     "hide_output_from_viewers":false
    }
   }
  },
  {
   "cell_type":"code",
   "source":[
    "(A % 2 == 0) and (B % 2 == 0)"
   ],
   "execution_count":6,
   "outputs":[
    {
     "data":{
      "text\/plain":[
       "True"
      ]
     },
     "metadata":{
      
     },
     "output_type":"display_data"
    }
   ],
   "metadata":{
    "datalore":{
     "node_id":"28uVp67Q2glPBPQZg9bBxm",
     "type":"CODE",
     "hide_input_from_viewers":false,
     "hide_output_from_viewers":false
    }
   }
  },
  {
   "cell_type":"code",
   "source":[
    "_pass = \"querty123@\" \n",
    "\n",
    "len(_pass) >=8 and ('@' in _pass or '#' in _pass)"
   ],
   "execution_count":7,
   "outputs":[
    {
     "data":{
      "text\/plain":[
       "True"
      ]
     },
     "metadata":{
      
     },
     "output_type":"display_data"
    }
   ],
   "metadata":{
    "datalore":{
     "node_id":"g8jaIpllZa9cDOzBNw0qTg",
     "type":"CODE",
     "hide_input_from_viewers":false,
     "hide_output_from_viewers":false
    }
   }
  },
  {
   "cell_type":"code",
   "source":[
    "_pass = \"querty123@\" \n",
    "\n",
    "if len(_pass) >=8 and ('@' in _pass or '#' in _pass):\n",
    "    print ('Сильний')\n",
    "else:\n",
    "    print ('Слабкий')"
   ],
   "execution_count":8,
   "outputs":[
    {
     "name":"stdout",
     "text":[
      "Сильний\n"
     ],
     "output_type":"stream"
    }
   ],
   "metadata":{
    "datalore":{
     "node_id":"bwbeAju464IcPyS46oBMMz",
     "type":"CODE",
     "hide_input_from_viewers":false,
     "hide_output_from_viewers":false
    }
   }
  },
  {
   "cell_type":"code",
   "source":[
    "a = 10\n",
    "b = 12\n",
    "if a == b:\n",
    "    a, b = 0, 0\n",
    "else:\n",
    "    a, b = a+b, a+b\n",
    "\n",
    "a, b"
   ],
   "execution_count":10,
   "outputs":[
    {
     "data":{
      "text\/plain":[
       "(22, 22)"
      ]
     },
     "metadata":{
      
     },
     "output_type":"display_data"
    }
   ],
   "metadata":{
    "datalore":{
     "node_id":"yu7mmxVNo0zL6KdFFg4ar6",
     "type":"CODE",
     "hide_input_from_viewers":false,
     "hide_output_from_viewers":false
    }
   }
  },
  {
   "cell_type":"code",
   "source":[
    "a, b, c = 2, 4, 6\n",
    "\n",
    "ab = a + b\n",
    "bc = b + c\n",
    "ac = a + c\n",
    "max(ab, bc, ac)"
   ],
   "execution_count":17,
   "outputs":[
    {
     "data":{
      "text\/plain":[
       "10"
      ]
     },
     "metadata":{
      
     },
     "output_type":"display_data"
    }
   ],
   "metadata":{
    "datalore":{
     "node_id":"n4hvDMtRqnQEJ7GPLla4kr",
     "type":"CODE",
     "hide_input_from_viewers":false,
     "hide_output_from_viewers":false
    }
   }
  },
  {
   "cell_type":"code",
   "source":[
    "a, b, c = 2, 4, 6\n",
    "\n",
    "my_list = [a,b,c]\n",
    "\n",
    "sum(sorted(my_list)[1:3])"
   ],
   "execution_count":14,
   "outputs":[
    {
     "data":{
      "text\/plain":[
       "10"
      ]
     },
     "metadata":{
      
     },
     "output_type":"display_data"
    }
   ],
   "metadata":{
    "datalore":{
     "node_id":"F7n1xVj8seDH2gr3KTrnpP",
     "type":"CODE",
     "hide_input_from_viewers":false,
     "hide_output_from_viewers":false
    }
   }
  },
  {
   "cell_type":"code",
   "source":[
    "a, b, c = 2, 4, 6\n",
    "\n",
    "a + b + c - min(a,b,c)"
   ],
   "execution_count":16,
   "outputs":[
    {
     "data":{
      "text\/plain":[
       "10"
      ]
     },
     "metadata":{
      
     },
     "output_type":"display_data"
    }
   ],
   "metadata":{
    "datalore":{
     "node_id":"kdBO6ArO20TAGWq6enip6T",
     "type":"CODE",
     "hide_input_from_viewers":false,
     "hide_output_from_viewers":false
    }
   }
  },
  {
   "cell_type":"code",
   "source":[
    "s = \"FHJKKIIUGFGO\"\n",
    "if 'a' in s:\n",
    "    pass\n",
    "else:\n",
    "    print (False)"
   ],
   "execution_count":18,
   "outputs":[
    {
     "name":"stdout",
     "text":[
      "False\n"
     ],
     "output_type":"stream"
    }
   ],
   "metadata":{
    "datalore":{
     "node_id":"I7i0lM4BF9Db8XLParspkw",
     "type":"CODE",
     "hide_input_from_viewers":false,
     "hide_output_from_viewers":false
    }
   }
  },
  {
   "cell_type":"code",
   "source":[
    "my_string = 'FHJKKIIaUGFGOAa'\n",
    "what_find = 'a'\n",
    "\n",
    "if what_find in my_string:\n",
    "    if my_string.count(what_find) == 1:\n",
    "        print(my_string.find(what_find))\n",
    "    else:\n",
    "        print(my_string.find(what_find))\n",
    "        print(my_string.rfind(what_find))\n",
    "else:\n",
    "    print (False)"
   ],
   "execution_count":28,
   "outputs":[
    {
     "name":"stdout",
     "text":[
      "7\n",
      "14\n"
     ],
     "output_type":"stream"
    }
   ],
   "metadata":{
    "datalore":{
     "node_id":"9QmvIwz02Gyk8JMLMsjOG7",
     "type":"CODE",
     "hide_input_from_viewers":false,
     "hide_output_from_viewers":false
    }
   }
  },
  {
   "cell_type":"code",
   "source":[
    "dist = 500\n",
    "day = 30\n",
    "\n",
    "for i in range(1, day+1):\n",
    "    print(f'День {i}, відстань {round(dist)}')\n",
    "    dist = dist * 1.1"
   ],
   "execution_count":13,
   "outputs":[
    {
     "name":"stdout",
     "text":[
      "День 1, відстань 500\n",
      "День 2, відстань 550\n",
      "День 3, відстань 605\n",
      "День 4, відстань 666\n",
      "День 5, відстань 732\n",
      "День 6, відстань 805\n",
      "День 7, відстань 886\n",
      "День 8, відстань 974\n",
      "День 9, відстань 1072\n",
      "День 10, відстань 1179\n",
      "День 11, відстань 1297\n",
      "День 12, відстань 1427\n",
      "День 13, відстань 1569\n",
      "День 14, відстань 1726\n",
      "День 15, відстань 1899\n",
      "День 16, відстань 2089\n",
      "День 17, відстань 2297\n",
      "День 18, відстань 2527\n",
      "День 19, відстань 2780\n",
      "День 20, відстань 3058\n",
      "День 21, відстань 3364\n",
      "День 22, відстань 3700\n",
      "День 23, відстань 4070\n",
      "День 24, відстань 4477\n",
      "День 25, відстань 4925\n",
      "День 26, відстань 5417\n",
      "День 27, відстань 5959\n",
      "День 28, відстань 6555\n",
      "День 29, відстань 7210\n",
      "День 30, відстань 7932\n"
     ],
     "output_type":"stream"
    }
   ],
   "metadata":{
    "datalore":{
     "node_id":"jXUSEZiS3SoXONVo7QMYUt",
     "type":"CODE",
     "hide_input_from_viewers":false,
     "hide_output_from_viewers":false
    }
   }
  },
  {
   "cell_type":"code",
   "source":[
    "dist = 500\n",
    "day = 1\n",
    "\n",
    "while day <=30:\n",
    "    print(f'День {day}, відстань {round(dist)}')\n",
    "    dist = dist * 1.1\n",
    "    day += 1\n",
    "\n",
    "dist"
   ],
   "execution_count":5,
   "outputs":[
    {
     "name":"stdout",
     "text":[
      "День 1, відстань 500\n",
      "День 2, відстань 550\n",
      "День 3, відстань 605\n",
      "День 4, відстань 666\n",
      "День 5, відстань 732\n",
      "День 6, відстань 805\n",
      "День 7, відстань 886\n",
      "День 8, відстань 974\n",
      "День 9, відстань 1072\n",
      "День 10, відстань 1179\n",
      "День 11, відстань 1297\n",
      "День 12, відстань 1427\n",
      "День 13, відстань 1569\n",
      "День 14, відстань 1726\n",
      "День 15, відстань 1899\n",
      "День 16, відстань 2089\n",
      "День 17, відстань 2297\n",
      "День 18, відстань 2527\n",
      "День 19, відстань 2780\n",
      "День 20, відстань 3058\n",
      "День 21, відстань 3364\n",
      "День 22, відстань 3700\n",
      "День 23, відстань 4070\n",
      "День 24, відстань 4477\n",
      "День 25, відстань 4925\n",
      "День 26, відстань 5417\n",
      "День 27, відстань 5959\n",
      "День 28, відстань 6555\n",
      "День 29, відстань 7210\n",
      "День 30, відстань 7932\n"
     ],
     "output_type":"stream"
    },
    {
     "data":{
      "text\/plain":[
       "8724.70113444322"
      ]
     },
     "metadata":{
      
     },
     "output_type":"display_data"
    }
   ],
   "metadata":{
    "datalore":{
     "node_id":"MDmG4w2IWJ5ewDfk9oqLpH",
     "type":"CODE",
     "hide_input_from_viewers":false,
     "hide_output_from_viewers":false
    }
   }
  },
  {
   "cell_type":"code",
   "source":[
    "# A - A0 (1+%)**N-1\n",
    "dist = 500\n",
    "day = 30\n",
    "dist = round(dist*(1 + 0.1)**29)\n",
    "dist"
   ],
   "execution_count":16,
   "outputs":[
    {
     "data":{
      "text\/plain":[
       "7932"
      ]
     },
     "metadata":{
      
     },
     "output_type":"display_data"
    }
   ],
   "metadata":{
    "datalore":{
     "node_id":"iQrz4LhclHNq6IT1NfzYW1",
     "type":"CODE",
     "hide_input_from_viewers":false,
     "hide_output_from_viewers":false
    }
   }
  },
  {
   "cell_type":"code",
   "source":[
    "new_list = [0, 1, 2 , 3, 6, 10, 13, -25]\n",
    "max(new_list)"
   ],
   "execution_count":18,
   "outputs":[
    {
     "data":{
      "text\/plain":[
       "13"
      ]
     },
     "metadata":{
      
     },
     "output_type":"display_data"
    }
   ],
   "metadata":{
    "datalore":{
     "node_id":"KiWVtlAP8CmYeXFpf3a2gs",
     "type":"CODE",
     "hide_input_from_viewers":false,
     "hide_output_from_viewers":false
    }
   }
  },
  {
   "cell_type":"code",
   "source":[
    "max_number = new_list[0]\n",
    "for i in new_list:\n",
    "    if max_number < i:\n",
    "        max_number = i\n",
    "\n",
    "max_number"
   ],
   "execution_count":20,
   "outputs":[
    {
     "data":{
      "text\/plain":[
       "13"
      ]
     },
     "metadata":{
      
     },
     "output_type":"display_data"
    }
   ],
   "metadata":{
    "datalore":{
     "node_id":"tNdMARK0lmh7Wiqj1EKB0o",
     "type":"CODE",
     "hide_input_from_viewers":false,
     "hide_output_from_viewers":false
    }
   }
  },
  {
   "cell_type":"code",
   "source":[
    "new_list = [0, 1, 2 , 3, 6, 10, 13, -25]\n",
    "min(new_list)\n",
    "\n",
    "min_number = new_list[0]\n",
    "for i in new_list:\n",
    "    if min_number > i:\n",
    "        min_number = i\n",
    "\n",
    "min_number"
   ],
   "execution_count":23,
   "outputs":[
    {
     "data":{
      "text\/plain":[
       "-25"
      ]
     },
     "metadata":{
      
     },
     "output_type":"display_data"
    }
   ],
   "metadata":{
    "datalore":{
     "node_id":"nnoWFTppmrxIkWqDyqk38N",
     "type":"CODE",
     "hide_input_from_viewers":false,
     "hide_output_from_viewers":false
    }
   }
  },
  {
   "cell_type":"code",
   "source":[
    "new_list = [0, 1, 2 , 3, 6, 10, 13, -25]\n",
    "list_sum = 0\n",
    "\n",
    "for i in new_list:\n",
    "    list_sum = list_sum + i\n",
    "\n",
    "list_sum\n"
   ],
   "execution_count":22,
   "outputs":[
    {
     "data":{
      "text\/plain":[
       "10"
      ]
     },
     "metadata":{
      
     },
     "output_type":"display_data"
    }
   ],
   "metadata":{
    "datalore":{
     "node_id":"jemjBBurJRLD2vD1OCwirA",
     "type":"CODE",
     "hide_input_from_viewers":false,
     "hide_output_from_viewers":false
    }
   }
  },
  {
   "cell_type":"code",
   "source":[
    "new_list = [1, 2 , 3, 6, 10, 13, -25]\n",
    "list_mlt = 1\n",
    "\n",
    "for i in new_list:\n",
    "    list_mlt *= i\n",
    "\n",
    "list_mlt"
   ],
   "execution_count":27,
   "outputs":[
    {
     "data":{
      "text\/plain":[
       "-117000"
      ]
     },
     "metadata":{
      
     },
     "output_type":"display_data"
    }
   ],
   "metadata":{
    "datalore":{
     "node_id":"2ceWgqZ55baeJ2vfgVH6uo",
     "type":"CODE",
     "hide_input_from_viewers":false,
     "hide_output_from_viewers":false
    }
   }
  },
  {
   "cell_type":"code",
   "source":[
    "while True:\n",
    "    input_info = input('Хто перетинає кордон:')\n",
    "    \n",
    "    if input_info == 'END':\n",
    "        break"
   ],
   "execution_count":2,
   "outputs":[
    {
     "name":"stdout",
     "text":[
      "Хто перетинає кордон: Igor\n",
      "Хто перетинає кордон: Lena\n",
      "Хто перетинає кордон: Ira\n",
      "Хто перетинає кордон: END\n"
     ],
     "output_type":"stream"
    }
   ],
   "metadata":{
    "datalore":{
     "node_id":"n98CVmsS1wUKf15GIEZNO7",
     "type":"CODE",
     "hide_input_from_viewers":false,
     "hide_output_from_viewers":false
    }
   }
  },
  {
   "cell_type":"code",
   "source":[
    "DB = {}\n",
    "\n",
    "while True:\n",
    "    input_info = input('Хто перетинає кордон: ')\n",
    "    \n",
    "    if input_info == 'END':\n",
    "        break\n",
    "\n",
    "    if input_info in DB:\n",
    "        DB[input_info] += 1\n",
    "    else:\n",
    "        DB[input_info] = 1\n",
    "\n",
    "print(DB)"
   ],
   "execution_count":3,
   "outputs":[
    {
     "name":"stdout",
     "text":[
      "Хто перетинає кордон:  Igor\n",
      "Хто перетинає кордон:  Lena\n",
      "Хто перетинає кордон:  Ira\n",
      "Хто перетинає кордон:  END\n",
      "{'Igor': 1, 'Lena': 1, 'Ira': 1}\n"
     ],
     "output_type":"stream"
    }
   ],
   "metadata":{
    "datalore":{
     "node_id":"tRj3oRPOHTfqUpiN6WKabz",
     "type":"CODE",
     "hide_input_from_viewers":false,
     "hide_output_from_viewers":false
    }
   }
  },
  {
   "cell_type":"code",
   "source":[
    "for i in range(10):\n",
    "    if i > 8:\n",
    "        break\n",
    "    print(i)"
   ],
   "execution_count":6,
   "outputs":[
    {
     "name":"stdout",
     "text":[
      "0\n",
      "1\n",
      "2\n",
      "3\n",
      "4\n",
      "5\n",
      "6\n",
      "7\n",
      "8\n"
     ],
     "output_type":"stream"
    }
   ],
   "metadata":{
    "datalore":{
     "node_id":"JGmvVVBmfwAUzDbPf18ix0",
     "type":"CODE",
     "hide_input_from_viewers":false,
     "hide_output_from_viewers":false
    }
   }
  },
  {
   "cell_type":"code",
   "source":[
    "for i in range(10):\n",
    "    if i > 4:\n",
    "        break\n",
    "    print(i)"
   ],
   "execution_count":7,
   "outputs":[
    {
     "name":"stdout",
     "text":[
      "0\n",
      "1\n",
      "2\n",
      "3\n",
      "4\n"
     ],
     "output_type":"stream"
    }
   ],
   "metadata":{
    "datalore":{
     "node_id":"ySVOtLrgLhtppgysyqZBEM",
     "type":"CODE",
     "hide_input_from_viewers":false,
     "hide_output_from_viewers":false
    }
   }
  },
  {
   "cell_type":"code",
   "source":[
    
   ],
   "execution_count":null,
   "outputs":[
    
   ],
   "metadata":{
    "datalore":{
     "node_id":"D8M0QOoTCLpGkunaTPPpWJ",
     "type":"CODE",
     "hide_input_from_viewers":false,
     "hide_output_from_viewers":false
    }
   }
  }
 ],
 "metadata":{
  "kernelspec":{
   "display_name":"Python",
   "language":"python",
   "name":"python"
  },
  "datalore":{
   "version":1,
   "computation_mode":"JUPYTER",
   "package_manager":"pip",
   "base_environment":"default",
   "packages":[
    
   ]
  }
 },
 "nbformat":4,
 "nbformat_minor":4
}