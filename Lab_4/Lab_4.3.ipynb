{
 "cells":[
  {
   "cell_type":"code",
   "source":[
    "import sqlite3\n",
    "\n",
    "con = sqlite3.connect('tysql.sqlite')\n",
    "cursor = con.cursor()"
   ],
   "execution_count":1,
   "outputs":[
    
   ],
   "metadata":{
    "datalore":{
     "node_id":"7BxlplTKem7VWpk04N0mkS",
     "type":"CODE",
     "hide_input_from_viewers":true,
     "hide_output_from_viewers":true
    }
   }
  },
  {
   "cell_type":"code",
   "source":[
    "sql = \"\"\"select\n",
    "typeof(100),\n",
    "typeof(10.0),\n",
    "typeof('100'),\n",
    "typeof(x'1000'),\n",
    "typeof(NULL); \"\"\"\n",
    "\n",
    "cursor.execute(sql)"
   ],
   "execution_count":2,
   "outputs":[
    {
     "data":{
      "text\/plain":[
       "<sqlite3.Cursor at 0x7fb2c246d960>"
      ]
     },
     "metadata":{
      
     },
     "output_type":"display_data"
    }
   ],
   "metadata":{
    "datalore":{
     "node_id":"nS0FiSPmCCUX4eOuMw9kyn",
     "type":"CODE",
     "hide_input_from_viewers":true,
     "hide_output_from_viewers":true
    }
   }
  },
  {
   "cell_type":"code",
   "source":[
    "cursor.fetchall()"
   ],
   "execution_count":3,
   "outputs":[
    {
     "data":{
      "text\/plain":[
       "[('integer', 'real', 'text', 'blob', 'null')]"
      ]
     },
     "metadata":{
      
     },
     "output_type":"display_data"
    }
   ],
   "metadata":{
    "datalore":{
     "node_id":"ktbi02TEiTbGOfOMOiGtgt",
     "type":"CODE",
     "hide_input_from_viewers":true,
     "hide_output_from_viewers":true
    }
   }
  },
  {
   "cell_type":"code",
   "source":[
    "cursor.execute(\"SELECT name FROM sqlite_master WHERE type='table';\")\n",
    "tables = cursor.fetchall()"
   ],
   "execution_count":4,
   "outputs":[
    
   ],
   "metadata":{
    "datalore":{
     "node_id":"jdQ3JvVzOnCWXwV9DCfcpY",
     "type":"CODE",
     "hide_input_from_viewers":true,
     "hide_output_from_viewers":true
    }
   }
  },
  {
   "cell_type":"code",
   "source":[
    "for table in tables:\n",
    "    cursor.execute(f\"SELECT * FROM {table[0]};\")\n",
    "    rows = cursor.fetchall()\n",
    "    print(f\"Data from table {table[0]}:\")\n",
    "    for row in rows:\n",
    "        print(row)"
   ],
   "execution_count":5,
   "outputs":[
    {
     "name":"stdout",
     "text":[
      "Data from table Customers:\n",
      "('1000000001', 'Village Toys', '200 Maple Lane', 'Detroit', 'MI', '44444', 'USA', 'John Smith', 'sales@villagetoys.com')\n",
      "('1000000002', 'Kids Place', '333 South Lake Drive', 'Columbus', 'OH', '43333', 'USA', 'Michelle Green', None)\n",
      "('1000000003', 'Fun4All', '1 Sunny Place', 'Muncie', 'IN', '42222', 'USA', 'Jim Jones', 'jjones@fun4all.com')\n",
      "('1000000004', 'Fun4All', '829 Riverside Drive', 'Phoenix', 'AZ', '88888', 'USA', 'Denise L. Stephens', 'dstephens@fun4all.com')\n",
      "('1000000005', 'The Toy Store', '4545 53rd Street', 'Chicago', 'IL', '54545', 'USA', 'Kim Howard', None)\n",
      "Data from table OrderItems:\n",
      "(20005, 1, 'BR01', 100, 5.49)\n",
      "(20005, 2, 'BR03', 100, 10.99)\n",
      "(20006, 1, 'BR01', 20, 5.99)\n",
      "(20006, 2, 'BR02', 10, 8.99)\n",
      "(20006, 3, 'BR03', 10, 11.99)\n",
      "(20007, 1, 'BR03', 50, 11.49)\n",
      "(20007, 2, 'BNBG01', 100, 2.99)\n",
      "(20007, 3, 'BNBG02', 100, 2.99)\n",
      "(20007, 4, 'BNBG03', 100, 2.99)\n",
      "(20007, 5, 'RGAN01', 50, 4.49)\n",
      "(20008, 1, 'RGAN01', 5, 4.99)\n",
      "(20008, 2, 'BR03', 5, 11.99)\n",
      "(20008, 3, 'BNBG01', 10, 3.49)\n",
      "(20008, 4, 'BNBG02', 10, 3.49)\n",
      "(20008, 5, 'BNBG03', 10, 3.49)\n",
      "(20009, 1, 'BNBG01', 250, 2.49)\n",
      "(20009, 2, 'BNBG02', 250, 2.49)\n",
      "(20009, 3, 'BNBG03', 250, 2.49)\n",
      "Data from table Orders:\n",
      "(20005, '2012-05-01', '1000000001')\n",
      "(20006, '2012-01-12', '1000000003')\n",
      "(20007, '2012-01-30', '1000000004')\n",
      "(20008, '2012-02-03', '1000000005')\n",
      "(20009, '2012-02-08', '1000000001')\n",
      "Data from table Products:\n",
      "('BR01', 'BRS01', '8 inch teddy bear', 5.99, '8 inch teddy bear, comes with cap and jacket')\n",
      "('BR02', 'BRS01', '12 inch teddy bear', 8.99, '12 inch teddy bear, comes with cap and jacket')\n",
      "('BR03', 'BRS01', '18 inch teddy bear', 11.99, '18 inch teddy bear, comes with cap and jacket')\n",
      "('BNBG01', 'DLL01', 'Fish bean bag toy', 3.49, 'Fish bean bag toy, complete with bean bag worms with which to feed it')\n",
      "('BNBG02', 'DLL01', 'Bird bean bag toy', 3.49, 'Bird bean bag toy, eggs are not included')\n",
      "('BNBG03', 'DLL01', 'Rabbit bean bag toy', 3.49, 'Rabbit bean bag toy, comes with bean bag carrots')\n",
      "('RGAN01', 'DLL01', 'Raggedy Ann', 4.99, '18 inch Raggedy Ann doll')\n",
      "('RYL01', 'FNG01', 'King doll', 9.49, '12 inch king doll with royal garments and crown')\n",
      "('RYL02', 'FNG01', 'Queen doll', 9.49, '12 inch queen doll with royal garments and crown')\n",
      "Data from table Vendors:\n",
      "('BRS01', 'Bears R Us', '123 Main Street', 'Bear Town', 'MI', '44444', 'USA')\n",
      "('BRE02', 'Bear Emporium', '500 Park Street', 'Anytown', 'OH', '44333', 'USA')\n",
      "('DLL01', 'Doll House Inc.', '555 High Street', 'Dollsville', 'CA', '99999', 'USA')\n",
      "('FRB01', 'Furball Inc.', '1000 5th Avenue', 'New York', 'NY', '11111', 'USA')\n",
      "('FNG01', 'Fun and Games', '42 Galaxy Road', 'London', None, 'N16 6PS', 'England')\n",
      "('JTS01', 'Jouets et ours', '1 Rue Amusement', 'Paris', None, '45678', 'France')\n"
     ],
     "output_type":"stream"
    }
   ],
   "metadata":{
    "datalore":{
     "node_id":"7VwCaf6q0UZLpycg6ZuYRU",
     "type":"CODE",
     "hide_input_from_viewers":true,
     "hide_output_from_viewers":true
    }
   }
  },
  {
   "cell_type":"code",
   "source":[
    "# Отримання назв колонок з таблиці\n",
    "cursor.execute(\"PRAGMA table_info('Customers')\")\n",
    "columns_customers = [column[1] for column in cursor.fetchall()]\n",
    "\n",
    "cursor.execute(\"PRAGMA table_info('OrderItems')\")\n",
    "columns_orderitems = [column[1] for column in cursor.fetchall()]\n",
    "\n",
    "cursor.execute(\"PRAGMA table_info('Orders')\")\n",
    "columns_orders = [column[1] for column in cursor.fetchall()]\n",
    "\n",
    "cursor.execute(\"PRAGMA table_info('Products')\")\n",
    "columns_products = [column[1] for column in cursor.fetchall()]\n",
    "\n",
    "\n",
    "# Виведення назв колонок\n",
    "print(columns_customers)\n",
    "print(columns_orderitems)\n",
    "print(columns_orders)\n",
    "print(columns_products)"
   ],
   "execution_count":6,
   "outputs":[
    {
     "name":"stdout",
     "text":[
      "['cust_id', 'cust_name', 'cust_address', 'cust_city', 'cust_state', 'cust_zip', 'cust_country', 'cust_contact', 'cust_email']\n",
      "['order_num', 'order_item', 'prod_id', 'quantity', 'item_price']\n",
      "['order_num', 'order_date', 'cust_id']\n",
      "['prod_id', 'vend_id', 'prod_name', 'prod_price', 'prod_desc']\n"
     ],
     "output_type":"stream"
    }
   ],
   "metadata":{
    "datalore":{
     "node_id":"Yyax15393HaVqgemDTBfiv",
     "type":"CODE",
     "hide_input_from_viewers":true,
     "hide_output_from_viewers":true
    }
   }
  },
  {
   "cell_type":"code",
   "source":[
    " #Список всіх cust_id з таблиці Customers table.\n",
    "\n",
    "cursor.execute('Select cust_id from Customers')\n",
    "cursor.fetchall()"
   ],
   "execution_count":7,
   "outputs":[
    {
     "data":{
      "text\/plain":[
       "[('1000000001',),\n",
       " ('1000000002',),\n",
       " ('1000000003',),\n",
       " ('1000000004',),\n",
       " ('1000000005',)]"
      ]
     },
     "metadata":{
      
     },
     "output_type":"display_data"
    }
   ],
   "metadata":{
    "datalore":{
     "node_id":"sYF7XNPCmj5TZ4HRE1A6EW",
     "type":"CODE",
     "hide_input_from_viewers":true,
     "hide_output_from_viewers":true
    }
   }
  },
  {
   "cell_type":"code",
   "source":[
    "#Всю таблицю Customers table\n",
    "cursor.execute('Select * from Customers')\n",
    "cursor.fetchall()"
   ],
   "execution_count":8,
   "outputs":[
    {
     "data":{
      "text\/plain":[
       "[('1000000001',\n",
       "  'Village Toys',\n",
       "  '200 Maple Lane',\n",
       "  'Detroit',\n",
       "  'MI',\n",
       "  '44444',\n",
       "  'USA',\n",
       "  'John Smith',\n",
       "  'sales@villagetoys.com'),\n",
       " ('1000000002',\n",
       "  'Kids Place',\n",
       "  '333 South Lake Drive',\n",
       "  'Columbus',\n",
       "  'OH',\n",
       "  '43333',\n",
       "  'USA',\n",
       "  'Michelle Green',\n",
       "  None),\n",
       " ('1000000003',\n",
       "  'Fun4All',\n",
       "  '1 Sunny Place',\n",
       "  'Muncie',\n",
       "  'IN',\n",
       "  '42222',\n",
       "  'USA',\n",
       "  'Jim Jones',\n",
       "  'jjones@fun4all.com'),\n",
       " ('1000000004',\n",
       "  'Fun4All',\n",
       "  '829 Riverside Drive',\n",
       "  'Phoenix',\n",
       "  'AZ',\n",
       "  '88888',\n",
       "  'USA',\n",
       "  'Denise L. Stephens',\n",
       "  'dstephens@fun4all.com'),\n",
       " ('1000000005',\n",
       "  'The Toy Store',\n",
       "  '4545 53rd Street',\n",
       "  'Chicago',\n",
       "  'IL',\n",
       "  '54545',\n",
       "  'USA',\n",
       "  'Kim Howard',\n",
       "  None)]"
      ]
     },
     "metadata":{
      
     },
     "output_type":"display_data"
    }
   ],
   "metadata":{
    "datalore":{
     "node_id":"HbvzGCOZWpTRw1fF8Bv2LX",
     "type":"CODE",
     "hide_input_from_viewers":true,
     "hide_output_from_viewers":true
    }
   }
  },
  {
   "cell_type":"code",
   "source":[
    "#Список клієнтів (cust_names) відсортованих від Z до A\n",
    "cursor.execute('Select cust_name from Customers order by cust_name desc')\n",
    "cursor.fetchall()\n"
   ],
   "execution_count":9,
   "outputs":[
    {
     "data":{
      "text\/plain":[
       "[('Village Toys',),\n",
       " ('The Toy Store',),\n",
       " ('Kids Place',),\n",
       " ('Fun4All',),\n",
       " ('Fun4All',)]"
      ]
     },
     "metadata":{
      
     },
     "output_type":"display_data"
    }
   ],
   "metadata":{
    "datalore":{
     "node_id":"X57xeCQqDI9U3lDPIfRig4",
     "type":"CODE",
     "hide_input_from_viewers":true,
     "hide_output_from_viewers":true
    }
   }
  },
  {
   "cell_type":"code",
   "source":[
    "#Таблицю клієнтів та замовлень (cust_id і order_num) . Відсортуйте по клієнту і потім по даті замовлення\n",
    "cursor.execute('Select Customers.cust_id, cust_name, order_num, order_date from Customers left join Orders on Customers.cust_id = Orders.cust_id order by Customers.cust_id, order_date')\n",
    "cursor.fetchall()"
   ],
   "execution_count":10,
   "outputs":[
    {
     "data":{
      "text\/plain":[
       "[('1000000001', 'Village Toys', 20009, '2012-02-08'),\n",
       " ('1000000001', 'Village Toys', 20005, '2012-05-01'),\n",
       " ('1000000002', 'Kids Place', None, None),\n",
       " ('1000000003', 'Fun4All', 20006, '2012-01-12'),\n",
       " ('1000000004', 'Fun4All', 20007, '2012-01-30'),\n",
       " ('1000000005', 'The Toy Store', 20008, '2012-02-03')]"
      ]
     },
     "metadata":{
      
     },
     "output_type":"display_data"
    }
   ],
   "metadata":{
    "datalore":{
     "node_id":"bqf5b46v32HxnxYP4WpD0P",
     "type":"CODE",
     "hide_input_from_viewers":true,
     "hide_output_from_viewers":true
    }
   }
  },
  {
   "cell_type":"code",
   "source":[
    "#Таблицю (на основі Items) з кількість та вартістю товару. Відсортуйте в порядку спадання по кількості та вартості\n",
    "#'order_num', 'order_item', 'prod_id', 'quantity', 'item_price'\n",
    "\n",
    "cursor.execute('Select order_num, order_item, quantity, item_price from OrderItems order by order_num, order_item, quantity, item_price')\n",
    "cursor.fetchall()"
   ],
   "execution_count":11,
   "outputs":[
    {
     "data":{
      "text\/plain":[
       "[(20005, 1, 100, 5.49),\n",
       " (20005, 2, 100, 10.99),\n",
       " (20006, 1, 20, 5.99),\n",
       " (20006, 2, 10, 8.99),\n",
       " (20006, 3, 10, 11.99),\n",
       " (20007, 1, 50, 11.49),\n",
       " (20007, 2, 100, 2.99),\n",
       " (20007, 3, 100, 2.99),\n",
       " (20007, 4, 100, 2.99),\n",
       " (20007, 5, 50, 4.49),\n",
       " (20008, 1, 5, 4.99),\n",
       " (20008, 2, 5, 11.99),\n",
       " (20008, 3, 10, 3.49),\n",
       " (20008, 4, 10, 3.49),\n",
       " (20008, 5, 10, 3.49),\n",
       " (20009, 1, 250, 2.49),\n",
       " (20009, 2, 250, 2.49),\n",
       " (20009, 3, 250, 2.49)]"
      ]
     },
     "metadata":{
      
     },
     "output_type":"display_data"
    }
   ],
   "metadata":{
    "datalore":{
     "node_id":"I4Xm8oSMkHsjTWdpzXvacz",
     "type":"CODE",
     "hide_input_from_viewers":true,
     "hide_output_from_viewers":true
    }
   }
  },
  {
   "cell_type":"code",
   "source":[
    "#Товар (з таблиці Products), ціна якого становить 9.49\n",
    "# 'prod_name', 'prod_price'\n",
    "\n",
    "cursor.execute('select prod_name, prod_price from Products where prod_price=9.49')\n",
    "cursor.fetchall()\n"
   ],
   "execution_count":12,
   "outputs":[
    {
     "data":{
      "text\/plain":[
       "[('King doll', 9.49), ('Queen doll', 9.49)]"
      ]
     },
     "metadata":{
      
     },
     "output_type":"display_data"
    }
   ],
   "metadata":{
    "datalore":{
     "node_id":"UGWhk4DMjWSM4Nq9dQfgn2",
     "type":"CODE",
     "hide_input_from_viewers":true,
     "hide_output_from_viewers":true
    }
   }
  },
  {
   "cell_type":"code",
   "source":[
    "#Виведіть назву товару та ціну, яка лежить в діапазоні від  3 до 6. Відсортуйте результат в по ціні в порядку зростання\n",
    "\n",
    "cursor.execute('select prod_name, prod_price from Products where prod_price >= 3 and prod_price <= 6 order by prod_price')\n",
    "cursor.fetchall()"
   ],
   "execution_count":13,
   "outputs":[
    {
     "data":{
      "text\/plain":[
       "[('Fish bean bag toy', 3.49),\n",
       " ('Bird bean bag toy', 3.49),\n",
       " ('Rabbit bean bag toy', 3.49),\n",
       " ('Raggedy Ann', 4.99),\n",
       " ('8 inch teddy bear', 5.99)]"
      ]
     },
     "metadata":{
      
     },
     "output_type":"display_data"
    }
   ],
   "metadata":{
    "datalore":{
     "node_id":"Q64jWuaJPqcWqoBaaNWgUO",
     "type":"CODE",
     "hide_input_from_viewers":true,
     "hide_output_from_viewers":true
    }
   }
  },
  {
   "cell_type":"code",
   "source":[
    "#Кількість товару, що було продано\n",
    "cursor.execute('Select order_num, sum(quantity) from OrderItems group by order_num order by order_num')\n",
    "cursor.fetchall()"
   ],
   "execution_count":16,
   "outputs":[
    {
     "data":{
      "text\/plain":[
       "[(20005, 200), (20006, 40), (20007, 400), (20008, 40), (20009, 750)]"
      ]
     },
     "metadata":{
      
     },
     "output_type":"display_data"
    }
   ],
   "metadata":{
    "datalore":{
     "node_id":"pfwKGOukwVwiqRsP6p1t5X",
     "type":"CODE",
     "hide_input_from_viewers":true,
     "hide_output_from_viewers":true
    }
   }
  },
  {
   "cell_type":"code",
   "source":[
    "#Кількість найменувань товару, ціна якого більша за 4\n",
    "cursor.execute('select prod_name, count(prod_name), prod_price from Products where prod_price>4 group by prod_name, prod_price ')\n",
    "cursor.fetchall()"
   ],
   "execution_count":19,
   "outputs":[
    {
     "data":{
      "text\/plain":[
       "[('12 inch teddy bear', 1, 8.99),\n",
       " ('18 inch teddy bear', 1, 11.99),\n",
       " ('8 inch teddy bear', 1, 5.99),\n",
       " ('King doll', 1, 9.49),\n",
       " ('Queen doll', 1, 9.49),\n",
       " ('Raggedy Ann', 1, 4.99)]"
      ]
     },
     "metadata":{
      
     },
     "output_type":"display_data"
    }
   ],
   "metadata":{
    "datalore":{
     "node_id":"WEOyELFeqyYqD0nEyPPxMC",
     "type":"CODE",
     "hide_input_from_viewers":true,
     "hide_output_from_viewers":true
    }
   }
  },
  {
   "cell_type":"code",
   "source":[
    "#Розробіть алгоритм для виведення 3 найдорожчих товарів в базі\n",
    "cursor.execute('select prod_name, prod_price from Products order by prod_price desc limit 3')\n",
    "cursor.fetchall()"
   ],
   "execution_count":24,
   "outputs":[
    {
     "data":{
      "text\/plain":[
       "[('18 inch teddy bear', 11.99), ('King doll', 9.49), ('Queen doll', 9.49)]"
      ]
     },
     "metadata":{
      
     },
     "output_type":"display_data"
    }
   ],
   "metadata":{
    "datalore":{
     "node_id":"r8VhAPC1gANKa4pbsz9USE",
     "type":"CODE",
     "hide_input_from_viewers":true,
     "hide_output_from_viewers":true
    }
   }
  },
  {
   "cell_type":"code",
   "source":[
    "#Підрахуйте кількість замовлень для кожного клієнта використовуючи підзапити\n",
    "\n",
    "#'cust_id', 'cust_name' order_num\n",
    "cursor.execute('''SELECT cust.cust_id, cust.cust_name, COALESCE(count(ord.total_orders), 0) as total_orders\n",
    "FROM Customers cust \n",
    "LEFT JOIN (SELECT ord.cust_id, count(ord.order_num) as total_orders \n",
    "FROM Orders ord GROUP BY ord.cust_id) as ord \n",
    "ON cust.cust_id = ord.cust_id GROUP BY cust.cust_id, cust.cust_name''')\n",
    "cursor.fetchall()"
   ],
   "execution_count":39,
   "outputs":[
    {
     "data":{
      "text\/plain":[
       "[('1000000001', 'Village Toys', 1),\n",
       " ('1000000002', 'Kids Place', 0),\n",
       " ('1000000003', 'Fun4All', 1),\n",
       " ('1000000004', 'Fun4All', 1),\n",
       " ('1000000005', 'The Toy Store', 1)]"
      ]
     },
     "metadata":{
      
     },
     "output_type":"display_data"
    }
   ],
   "metadata":{
    "datalore":{
     "node_id":"LV7uz2QsGc1kJfKT1gQivs",
     "type":"CODE",
     "hide_input_from_viewers":true,
     "hide_output_from_viewers":true
    }
   }
  },
  {
   "cell_type":"code",
   "source":[
    "#Виведіть список клієнтів та їх замовлення (використайте JOIN)\n",
    "cursor.execute('''SELECT cust.cust_id, cust.cust_name, ord.total_orders as total_orders\n",
    "FROM Customers cust \n",
    "LEFT JOIN (SELECT ord.cust_id, ord.order_num as total_orders \n",
    "FROM Orders ord GROUP BY ord.cust_id) as ord \n",
    "ON cust.cust_id = ord.cust_id GROUP BY cust.cust_id, cust.cust_name''')\n",
    "cursor.fetchall()"
   ],
   "execution_count":42,
   "outputs":[
    {
     "data":{
      "text\/plain":[
       "[('1000000001', 'Village Toys', 20005),\n",
       " ('1000000002', 'Kids Place', None),\n",
       " ('1000000003', 'Fun4All', 20006),\n",
       " ('1000000004', 'Fun4All', 20007),\n",
       " ('1000000005', 'The Toy Store', 20008)]"
      ]
     },
     "metadata":{
      
     },
     "output_type":"display_data"
    }
   ],
   "metadata":{
    "datalore":{
     "node_id":"IfiX8GndqA0NWbcCpt6roE",
     "type":"CODE",
     "hide_input_from_viewers":true,
     "hide_output_from_viewers":true
    }
   }
  },
  {
   "cell_type":"code",
   "source":[
    "#Зробіть два запити: список товарів, ціна яких менша 5 та список товарів, ціна який більша рівна 5. \n",
    "#Використайте UNION для об'єднання цих запитів\n",
    "\n",
    "cursor.execute('''select prod_name, prod_price from Products where prod_price >= 5 UNION ALL select prod_name, prod_price from Products where prod_price < 5''')\n",
    "cursor.fetchall()"
   ],
   "execution_count":44,
   "outputs":[
    {
     "data":{
      "text\/plain":[
       "[('8 inch teddy bear', 5.99),\n",
       " ('12 inch teddy bear', 8.99),\n",
       " ('18 inch teddy bear', 11.99),\n",
       " ('King doll', 9.49),\n",
       " ('Queen doll', 9.49),\n",
       " ('Fish bean bag toy', 3.49),\n",
       " ('Bird bean bag toy', 3.49),\n",
       " ('Rabbit bean bag toy', 3.49),\n",
       " ('Raggedy Ann', 4.99)]"
      ]
     },
     "metadata":{
      
     },
     "output_type":"display_data"
    }
   ],
   "metadata":{
    "datalore":{
     "node_id":"waHOSQ2CBQcHuQASmOVbUa",
     "type":"CODE",
     "hide_input_from_viewers":true,
     "hide_output_from_viewers":true
    }
   }
  }
 ],
 "metadata":{
  "kernelspec":{
   "display_name":"Python",
   "language":"python",
   "name":"python"
  },
  "datalore":{
   "computation_mode":"JUPYTER",
   "package_manager":"pip",
   "base_environment":"default",
   "packages":[
    
   ],
   "report_row_ids":[
    
   ],
   "version":2
  }
 },
 "nbformat":4,
 "nbformat_minor":4
}