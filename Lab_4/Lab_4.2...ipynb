{
 "cells":[
  {
   "cell_type":"code",
   "source":[
    "import sqlite3"
   ],
   "execution_count":2,
   "outputs":[
    
   ],
   "metadata":{
    "datalore":{
     "node_id":"Dq46Mbhb15bVjxRiUDbFxR",
     "type":"CODE",
     "hide_input_from_viewers":true,
     "hide_output_from_viewers":true
    }
   }
  },
  {
   "cell_type":"code",
   "source":[
    "conn = sqlite3.connect('Lab_4_2')"
   ],
   "execution_count":3,
   "outputs":[
    
   ],
   "metadata":{
    "datalore":{
     "node_id":"mq0QOrYtdd0qxUjD9ssOHq",
     "type":"CODE",
     "hide_input_from_viewers":true,
     "hide_output_from_viewers":true
    }
   }
  },
  {
   "cell_type":"code",
   "source":[
    "cursor = conn.cursor()"
   ],
   "execution_count":4,
   "outputs":[
    
   ],
   "metadata":{
    "datalore":{
     "node_id":"40BwhfbGAP2UwS2UIv91Vj",
     "type":"CODE",
     "hide_input_from_viewers":true,
     "hide_output_from_viewers":true
    }
   }
  },
  {
   "cell_type":"code",
   "source":[
    "Lab_4_2 = \"\"\"select\n",
    "typeof(100),\n",
    "typeof(10.0),\n",
    "typeof('100'),\n",
    "typeof(x'1000'),\n",
    "typeof(NULL); \"\"\""
   ],
   "execution_count":5,
   "outputs":[
    
   ],
   "metadata":{
    "datalore":{
     "node_id":"pTbhvD40GIig6sW6tHeQp4",
     "type":"CODE",
     "hide_input_from_viewers":true,
     "hide_output_from_viewers":true
    }
   }
  },
  {
   "cell_type":"code",
   "source":[
    "cursor.execute(Lab_4_2)"
   ],
   "execution_count":6,
   "outputs":[
    {
     "data":{
      "text\/plain":[
       "<sqlite3.Cursor at 0x7f2913f625e0>"
      ]
     },
     "metadata":{
      
     },
     "output_type":"display_data"
    }
   ],
   "metadata":{
    "datalore":{
     "node_id":"25NgwvALTJrSEFhvwaz6wC",
     "type":"CODE",
     "hide_input_from_viewers":true,
     "hide_output_from_viewers":true
    }
   }
  },
  {
   "cell_type":"code",
   "source":[
    "cursor.fetchall()"
   ],
   "execution_count":7,
   "outputs":[
    {
     "data":{
      "text\/plain":[
       "[('integer', 'real', 'text', 'blob', 'null')]"
      ]
     },
     "metadata":{
      
     },
     "output_type":"display_data"
    }
   ],
   "metadata":{
    "datalore":{
     "node_id":"7jUCr2PS92SwdP2F61ko3H",
     "type":"CODE",
     "hide_input_from_viewers":true,
     "hide_output_from_viewers":true
    }
   }
  },
  {
   "cell_type":"code",
   "source":[
    "Lab_4_2 =\"\"\"\n",
    "create table if not exists PRODUCTS (\n",
    "        ID integer primary key autoincrement,\n",
    "        ART number not null,\n",
    "        NAME text not null,\n",
    "        PRICE number not null,\n",
    "        Weight number not null\n",
    "\n",
    ");\"\"\""
   ],
   "execution_count":8,
   "outputs":[
    
   ],
   "metadata":{
    "datalore":{
     "node_id":"ErwFWSuSmvTV2Lpeir00yS",
     "type":"CODE",
     "hide_input_from_viewers":true,
     "hide_output_from_viewers":true
    }
   }
  },
  {
   "cell_type":"code",
   "source":[
    "cursor.executescript(Lab_4_2)"
   ],
   "execution_count":9,
   "outputs":[
    {
     "data":{
      "text\/plain":[
       "<sqlite3.Cursor at 0x7f2913f625e0>"
      ]
     },
     "metadata":{
      
     },
     "output_type":"display_data"
    }
   ],
   "metadata":{
    "datalore":{
     "node_id":"pUAqC6hrmYy1GH5tMvR0uN",
     "type":"CODE",
     "hide_input_from_viewers":true,
     "hide_output_from_viewers":true
    }
   }
  },
  {
   "cell_type":"code",
   "source":[
    "Lab_4_2 = \"insert into PRODUCTS (ART, NAME, PRICE, Weight) values ('002', 'Добриво для вічнозелених дерев', '150', '20')\"\n",
    "\n",
    "cursor.execute(Lab_4_2)\n",
    "conn.commit()\n",
    "\n",
    "cursor.execute('select * from PRODUCTS')\n",
    "cursor.fetchall()"
   ],
   "execution_count":10,
   "outputs":[
    {
     "data":{
      "text\/plain":[
       "[(1, 1, 'Добриво універсальне', 100, 20),\n",
       " (2, 2, 'Добриво для вічнозелених дерев', 150, 20),\n",
       " (3, 2, 'Добриво для вічнозелених дерев', 150, 20),\n",
       " (4, 2, 'Добриво для вічнозелених дерев', 150, 20)]"
      ]
     },
     "metadata":{
      
     },
     "output_type":"display_data"
    }
   ],
   "metadata":{
    "datalore":{
     "node_id":"m5VxrZyAbobaYC5iga3lH3",
     "type":"CODE",
     "hide_input_from_viewers":true,
     "hide_output_from_viewers":true
    }
   }
  },
  {
   "cell_type":"code",
   "source":[
    "import sqlite3\n",
    "\n",
    "def add_product():\n",
    "\n",
    "    conn = sqlite3.connect('Lab_4_2')\n",
    "    cursor = conn.cursor()\n",
    "\n",
    "    art = input(\"Введіть код товару: \")\n",
    "    name = input(\"Введіть назву товару: \")\n",
    "    price = float(input(\"Введіть ціну товару: \"))\n",
    "    weight = float(input(\"Введіть вагу товару: \"))\n",
    "\n",
    "    Lab_4_2 = \"INSERT INTO PRODUCTS (ART, NAME, PRICE, Weight) VALUES (?, ?, ?, ?)\"\n",
    "    cursor.execute(Lab_4_2, (art, name, price, weight))\n",
    "    conn.commit()\n",
    "\n",
    "    print(f\"Товар {name} з кодом {art} успішно додано до бази даних.\")\n",
    "\n",
    "    cursor.execute('select * from PRODUCTS')\n",
    "    rows = cursor.fetchall()\n",
    "    for row in rows:\n",
    "        print(row)\n",
    "\n",
    "    conn.close()\n",
    "\n",
    "add_product()"
   ],
   "execution_count":3,
   "outputs":[
    {
     "name":"stdout",
     "text":[
      "Введіть код товару:  003\n",
      "Введіть назву товару:  Мінеральні добрива - 02\n",
      "Введіть ціну товару:  200\n",
      "Введіть вагу товару:  40\n",
      "Товар Мінеральні добрива - 02 з кодом 003 успішно додано до бази даних.\n",
      "(1, 1, 'Добриво універсальне', 100, 20)\n",
      "(2, 2, 'Добриво для вічнозелених дерев', 150, 20)\n",
      "(3, 2, 'Добриво для вічнозелених дерев', 150, 20)\n",
      "(4, 2, 'Добриво для вічнозелених дерев', 150, 20)\n",
      "(5, 2, 'Мінеральні добрива', 100, 20)\n",
      "(6, 3, 'Мінеральні добрива - 02', 200, 40)\n"
     ],
     "output_type":"stream"
    }
   ],
   "metadata":{
    "datalore":{
     "node_id":"05grjRmQVag3g2Uhj70kwt",
     "type":"CODE",
     "hide_input_from_viewers":true,
     "hide_output_from_viewers":true
    }
   }
  }
 ],
 "metadata":{
  "kernelspec":{
   "display_name":"Python",
   "language":"python",
   "name":"python"
  },
  "datalore":{
   "computation_mode":"JUPYTER",
   "package_manager":"pip",
   "base_environment":"default",
   "packages":[
    
   ],
   "report_row_ids":[
    
   ],
   "version":2
  }
 },
 "nbformat":4,
 "nbformat_minor":4
}