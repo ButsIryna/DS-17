{
 "cells":[
  {
   "cell_type":"markdown",
   "source":[
    "# 1. Markdown cells\n",
    "* **Hi! Its Main Academy?**\n",
    "* **All HTML tabs are supported!**\n",
    "* **Моя сторінка на лінкедін [Лінкедін](https:\/\/ua.linkedin.com\/)**\n",
    "        \n",
    "        \n",
    "# This is Heading1 \n",
    "\n",
    "## This is Heading2\n",
    "\n",
    "some gray colored text:\n",
    "> This is where we can bring quotes and present them nicely\n",
    "\n",
    "And this is the paragraph about something wery important. Even math:\n",
    "\n",
    "\n",
    "$ysub = (Xsub)$\n",
    "\n",
    "\n",
    "Or python code example:\n",
    "\n",
    "_import math_  \n",
    "_def foo():_  \n",
    "_return \"foo\"_"
   ],
   "attachments":{
    
   },
   "metadata":{
    "datalore":{
     "node_id":"sziBluUEmC10YUPSi3becZ",
     "type":"MD",
     "hide_input_from_viewers":false,
     "hide_output_from_viewers":false
    }
   }
  }
 ],
 "metadata":{
  "kernelspec":{
   "display_name":"Python",
   "language":"python",
   "name":"python"
  },
  "datalore":{
   "version":1,
   "computation_mode":"JUPYTER",
   "package_manager":"pip",
   "base_environment":"default",
   "packages":[
    
   ]
  }
 },
 "nbformat":4,
 "nbformat_minor":4
}